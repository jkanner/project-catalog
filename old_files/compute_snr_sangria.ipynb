{
 "cells": [
  {
   "cell_type": "markdown",
   "id": "ab78060c",
   "metadata": {},
   "source": [
    "# Compute SNR for galactic binaries"
   ]
  },
  {
   "cell_type": "markdown",
   "id": "dd19fbf3",
   "metadata": {},
   "source": [
    "### Imports and constants"
   ]
  },
  {
   "cell_type": "code",
   "execution_count": null,
   "id": "fc36d7dd",
   "metadata": {},
   "outputs": [],
   "source": [
    "from gbgpu import gbgpu\n",
    "import pandas as pd\n",
    "import numpy as np\n",
    "\n",
    "# useful imports\n",
    "from lisatools.sensitivity import LISASens, get_sensitivity, get_stock_sensitivity_options\n",
    "from lisatools.sensitivity import SensitivityMatrix, LISASens, A1TDISens, E1TDISens\n",
    "import lisatools.detector as lisa_models\n",
    "import matplotlib.pyplot as plt\n",
    "\n",
    "from lisatools.utils.constants import YRSID_SI\n",
    "from tqdm import tqdm\n",
    "import glob\n",
    "\n",
    "YEAR = 525600 * 60"
   ]
  },
  {
   "cell_type": "markdown",
   "id": "e5caf98d",
   "metadata": {},
   "source": [
    "### Make the noise PSD model"
   ]
  },
  {
   "cell_type": "code",
   "execution_count": 2,
   "id": "46132e07",
   "metadata": {},
   "outputs": [],
   "source": [
    "time = np.arange(0, YEAR, 5.0)\n",
    "f = np.fft.rfftfreq(len(time), d=5.0)[1:]\n",
    "data = [np.zeros(len(f)), np.zeros(len(f))]\n",
    "Sn = get_sensitivity(f, sens_fn=LISASens, average=True, model=lisa_models.sangria, return_type='PSD')\n",
    "\n",
    "sens_kwargs = dict(\n",
    "    stochastic_params=(1.0 * YRSID_SI,)\n",
    ")\n",
    "\n",
    "sens_mat = SensitivityMatrix(f, [A1TDISens, E1TDISens], **sens_kwargs)\n",
    "sens_mat.update_model(lisa_models.sangria)"
   ]
  },
  {
   "cell_type": "markdown",
   "id": "a67ae018",
   "metadata": {},
   "source": [
    "### Instantiate the waveform model"
   ]
  },
  {
   "cell_type": "code",
   "execution_count": 3,
   "id": "b921ba94",
   "metadata": {},
   "outputs": [],
   "source": [
    "gb = gbgpu.GBGPU()"
   ]
  },
  {
   "cell_type": "markdown",
   "id": "038a0400",
   "metadata": {},
   "source": [
    "### Read in the feather files with parameter values"
   ]
  },
  {
   "cell_type": "code",
   "execution_count": 4,
   "id": "fbca7340",
   "metadata": {},
   "outputs": [],
   "source": [
    "df = pd.read_feather('/Users/aaron/Documents/lisa/catalog_metrics/data/igb_params.feather')"
   ]
  },
  {
   "cell_type": "code",
   "execution_count": 5,
   "id": "4ce17158",
   "metadata": {},
   "outputs": [],
   "source": [
    "# i = 0\n",
    "\n",
    "# amp = df['Amplitude'].values[1]\n",
    "# f0 = df['Frequency'].values[1]\n",
    "# fdot = df['FrequencyDerivative'].values[1]\n",
    "# fddot = 0.0\n",
    "# phi0 = df['InitialPhase'].values[1]\n",
    "# iota = df['Inclination'].values[1]\n",
    "# psi = df['Polarization'].values[1]\n",
    "# lam = df['EclipticLongitude'].values[1]\n",
    "# beta = df['EclipticLatitude'].values[1]\n",
    "\n",
    "# params = np.array([amp, f0, fdot, fddot, phi0, iota, psi, lam, beta])\n",
    "# params.reshape((1, -1))\n",
    "# gb.d_d = 0.0\n",
    "# np.real(gb.get_ll(params, data, [Sn, Sn]))"
   ]
  },
  {
   "cell_type": "markdown",
   "id": "37d42659",
   "metadata": {},
   "source": [
    "### Iterate over the parameter values to compute SNRs\n",
    "* Note: GBGPU has been modified so that gb.get_ll() returns h_h instead of the loglikelihood\n",
    "* It's easy enough to modify this to instead compute gb.get_ll() and then take gb.h_h as the result"
   ]
  },
  {
   "cell_type": "code",
   "execution_count": 10,
   "id": "6a758831",
   "metadata": {},
   "outputs": [
    {
     "name": "stderr",
     "output_type": "stream",
     "text": [
      "100%|██████████| 3000000/3000000 [19:48<00:00, 2524.75it/s]\n"
     ]
    }
   ],
   "source": [
    "# GBGPU has had the output of gb.get_ll changed to output gb.h_h here\n",
    "# iterate through the dataframe and set an SNR parameter\n",
    "names = []\n",
    "snr_values = []\n",
    "start_index = 0\n",
    "for i in tqdm(range(start_index, len(df))):\n",
    "\n",
    "    name = df['Name'].values[i]\n",
    "    amp = df['Amplitude'].values[i]\n",
    "    f0 = df['Frequency'].values[i]\n",
    "    fdot = df['FrequencyDerivative'].values[i]\n",
    "    fddot = 0.0\n",
    "    phi0 = df['InitialPhase'].values[i]\n",
    "    iota = df['Inclination'].values[i]\n",
    "    psi = df['Polarization'].values[i]\n",
    "    lam = df['EclipticLongitude'].values[i]\n",
    "    beta = df['EclipticLatitude'].values[i]\n",
    "\n",
    "    # print(amp, f0, fdot, fddot, phi0, iota, psi, lam, beta)\n",
    "\n",
    "    params = np.array([amp, f0, fdot, fddot, phi0, iota, psi, lam, beta])\n",
    "    params.reshape((1, -1))\n",
    "    gb.d_d = 0.0\n",
    "    names.append(name)\n",
    "    snr_values.append(np.real(gb.get_ll(params, data, sens_mat)[0]))\n",
    "    # if i in [8162]:\n",
    "    #     names.append(name)\n",
    "    #     snr_values.append(0)\n",
    "    #     continue\n",
    "    if len(snr_values) % 10_000 == 0:\n",
    "        np.savetxt(f'./snrs/igb_snrs/snr_values_{i // 10_000}.txt', np.c_[names, snr_values])\n",
    "        names = []\n",
    "        snr_values = []\n",
    "# np.savetxt('./snrs/snr_values_final.txt', np.c_[names, snr_values])\n",
    "# snr_values = []\n"
   ]
  },
  {
   "cell_type": "code",
   "execution_count": null,
   "id": "578935f0",
   "metadata": {},
   "outputs": [],
   "source": []
  },
  {
   "cell_type": "code",
   "execution_count": null,
   "id": "8844bf24",
   "metadata": {},
   "outputs": [],
   "source": [
    "df = pd.read_feather('/Users/aaron/Documents/lisa/catalog_metrics/data/dgb_params.feather')\n",
    "dgb_snrs = glob.glob('./snrs/dgb_snrs/snr_values_*.txt')"
   ]
  },
  {
   "cell_type": "code",
   "execution_count": 62,
   "id": "ce61e997",
   "metadata": {},
   "outputs": [
    {
     "name": "stdout",
     "output_type": "stream",
     "text": [
      "26000000\n",
      "26000000\n"
     ]
    }
   ],
   "source": [
    "# build a single mapping of Name → SNR\n",
    "all_names = []\n",
    "all_snr_values = []\n",
    "mapping = {}\n",
    "for file in dgb_snrs:\n",
    "    names, snr_values = np.loadtxt(file, unpack=True, dtype=np.float64)\n",
    "    all_names.append(np.array(names).astype(np.float64))\n",
    "    all_snr_values.append(np.array(snr_values).astype(np.float64))\n",
    "all_names = np.concatenate(all_names)\n",
    "all_snr_values = np.concatenate(all_snr_values)\n",
    "print(len(all_names))\n",
    "print(len(all_snr_values))\n",
    "# suppose you’ve concatenated all your names & snr_values into two lists:\n",
    "#   all_names, all_snr_values\n",
    "snr_df = pd.DataFrame({'Name': all_names, 'SNR': all_snr_values})\n",
    "\n",
    "# ensure your main df['Name'] is also float64\n",
    "\n",
    "df = df.merge(snr_df, on='Name')"
   ]
  },
  {
   "cell_type": "code",
   "execution_count": null,
   "id": "3cf8a355",
   "metadata": {},
   "outputs": [],
   "source": [
    "# df2 = pd.read_feather('/Users/aaron/Documents/lisa/catalog_metrics/data/igb_params.feather')\n",
    "# igb_snrs = glob.glob('./snrs/igb_snrs/snr_values_*.txt')"
   ]
  },
  {
   "cell_type": "code",
   "execution_count": null,
   "id": "1f64930a",
   "metadata": {},
   "outputs": [
    {
     "name": "stdout",
     "output_type": "stream",
     "text": [
      "3000000\n",
      "3000000\n"
     ]
    }
   ],
   "source": [
    "# # build a single mapping of Name → SNR\n",
    "# all_names = []\n",
    "# all_snr_values = []\n",
    "# mapping = {}\n",
    "# for file in igb_snrs:\n",
    "#     names, snr_values = np.loadtxt(file, unpack=True, dtype=np.float64)\n",
    "#     all_names.append(np.array(names).astype(np.float64))\n",
    "#     all_snr_values.append(np.array(snr_values).astype(np.float64))\n",
    "# all_names = np.concatenate(all_names)\n",
    "# all_snr_values = np.concatenate(all_snr_values)\n",
    "# print(len(all_names))\n",
    "# print(len(all_snr_values))\n",
    "# # suppose you’ve concatenated all your names & snr_values into two lists:\n",
    "# #   all_names, all_snr_values\n",
    "# snr_df = pd.DataFrame({'Name': all_names, 'SNR': all_snr_values})\n",
    "\n",
    "# # ensure your main df['Name'] is also float64\n",
    "\n",
    "# df2 = df2.merge(snr_df, on='Name')"
   ]
  },
  {
   "cell_type": "code",
   "execution_count": null,
   "id": "1d965add",
   "metadata": {},
   "outputs": [],
   "source": []
  }
 ],
 "metadata": {
  "kernelspec": {
   "display_name": "catalogs",
   "language": "python",
   "name": "python3"
  },
  "language_info": {
   "codemirror_mode": {
    "name": "ipython",
    "version": 3
   },
   "file_extension": ".py",
   "mimetype": "text/x-python",
   "name": "python",
   "nbconvert_exporter": "python",
   "pygments_lexer": "ipython3",
   "version": "3.10.17"
  }
 },
 "nbformat": 4,
 "nbformat_minor": 5
}
