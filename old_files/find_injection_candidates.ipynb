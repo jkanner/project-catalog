{
 "cells": [
  {
   "cell_type": "code",
   "execution_count": null,
   "id": "d1185722",
   "metadata": {},
   "outputs": [],
   "source": [
    "import glob\n",
    "import pandas as pd"
   ]
  },
  {
   "cell_type": "code",
   "execution_count": null,
   "id": "83c04703",
   "metadata": {},
   "outputs": [],
   "source": [
    "def find_injection_candidates(injections_df, posterior_feather_filepath, candidates_feather_output_dir, snr_cut=None):\n",
    "    \"\"\"\n",
    "    Find the injection candidates in the posterior samples.\n",
    "    Uses frequency range of the posterior samples to reduce the total number of injections to search through.\n",
    "\n",
    "    Parameters\n",
    "    ----------\n",
    "    injections_df : pandas.DataFrame\n",
    "        DataFrame containing the injections.\n",
    "\n",
    "    posterior_feather_filepath : str\n",
    "        Path to the injections in feather format.\n",
    "\n",
    "    posterior_feather_filepath : str\n",
    "        Path to the posterior samples in feather format.\n",
    "\n",
    "    Returns\n",
    "    -------\n",
    "    injection_candidates : pandas.DataFrame\n",
    "        DataFrame containing the injection candidates.\n",
    "    \"\"\"\n",
    "    # Load posterior samples\n",
    "    posterior_df = pd.read_feather(posterior_feather_filepath)\n",
    "\n",
    "    # Get the frequency range of the posterior samples\n",
    "    f_min = posterior_df['Frequency'].min()\n",
    "    f_max = posterior_df['Frequency'].max()\n",
    "    # Filter injections based on frequency range\n",
    "    injection_candidates = pd.DataFrame(injections_df[(injections_df['Frequency'] >= f_min) & (injections_df['Frequency'] <= f_max)])\n",
    "    # Check if the injection candidates are empty\n",
    "    if injection_candidates.empty:\n",
    "        print(\"No injection candidates found within the frequency range of the posterior samples.\")\n",
    "        # Save injection candidates to a feather file\n",
    "        if snr_cut is None:\n",
    "            injection_candidates_filepath = f'./{candidates_feather_output_dir}/{posterior_feather_filepath.split(\"/\")[-1].split(\"_\")[0]}_candidates.feather'\n",
    "            injection_candidates.to_feather(injection_candidates_filepath)\n",
    "        return injection_candidates\n",
    "\n",
    "    injection_candidates.reset_index(drop=True, inplace=True)\n",
    "    # print(injection_candidates)\n",
    "\n",
    "    # Save injection candidates to a feather file\n",
    "    if snr_cut is None:\n",
    "        injection_candidates_filepath = f'./{candidates_feather_output_dir}/{posterior_feather_filepath.split(\"/\")[-1].split(\"_\")[0]}_candidates.feather'\n",
    "        injection_candidates.to_feather(injection_candidates_filepath)\n",
    "    else:\n",
    "        injection_candidates_filepath = f'./{candidates_feather_output_dir}/{posterior_feather_filepath.split(\"/\")[-1].split(\"_\")[0]}_candidates_snr_cut.feather'\n",
    "        injection_candidates.to_feather(injection_candidates_filepath)\n",
    "\n",
    "    return injection_candidates"
   ]
  },
  {
   "cell_type": "code",
   "execution_count": null,
   "id": "de0e94d1",
   "metadata": {},
   "outputs": [],
   "source": [
    "feather_files = glob.glob('./sangria_posterior_feathers/*.feather')\n",
    "injections_df = pd.read_feather('/Users/aaron/Documents/lisa/catalog_metrics/data/ucb_params.feather')"
   ]
  },
  {
   "cell_type": "code",
   "execution_count": null,
   "id": "8b29f195",
   "metadata": {},
   "outputs": [],
   "source": [
    "# if we do an SNR cut don't forget to filter the injections_df\n",
    "injections_df = injections_df[injections_df['SNR'] >= 1]\n",
    "for feather_file in feather_files:\n",
    "    find_injection_candidates(injections_df, feather_file, 'posterior_injection_candidates_snr_cut', snr_cut=1)"
   ]
  },
  {
   "cell_type": "code",
   "execution_count": null,
   "id": "67bacc39",
   "metadata": {},
   "outputs": [],
   "source": []
  }
 ],
 "metadata": {
  "language_info": {
   "name": "python"
  }
 },
 "nbformat": 4,
 "nbformat_minor": 5
}
