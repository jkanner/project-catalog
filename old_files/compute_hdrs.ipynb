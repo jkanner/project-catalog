{
 "cells": [
  {
   "cell_type": "code",
   "execution_count": null,
   "id": "a998c288",
   "metadata": {},
   "outputs": [],
   "source": [
    "from project_catalog.utils import get_galactic_binary_names\n",
    "from project_catalog.galactic_binary import GalacticBinary\n",
    "from project_catalog import compute_1d_hdrs, compute_8d_hdr\n",
    "\n",
    "import pandas as pd"
   ]
  },
  {
   "cell_type": "code",
   "execution_count": null,
   "id": "33a786e9",
   "metadata": {},
   "outputs": [],
   "source": [
    "names = get_galactic_binary_names()\n",
    "\n",
    "# this cell took about 2 hours to run on my laptop\n",
    "\n",
    "# compute all the HDRs for all the candidates\n",
    "# this includes both the 1D and 8D HDRs\n",
    "# other info includes SNR, Name, and Candidate Name\n",
    "hdr_df = pd.DataFrame(columns=['Name', 'Candidate', 'SNR', 'Frequency HDR',\n",
    "                               'Amplitude HDR', 'Inclination HDR',\n",
    "                               'Initial Phase HDR', 'Ecliptic Latitude HDR',\n",
    "                               'Ecliptic Longitude HDR', 'Polarization HDR',\n",
    "                               'Frequency Derivative HDR', '8D HDR'])\n",
    "for name in names:\n",
    "    df_row = {}\n",
    "    gb = GalacticBinary.load_feather(name)\n",
    "    df_row['Name'] = name\n",
    "    for idx, row in gb.candidates.iterrows():\n",
    "        df_row['Candidate'] = row['Name']\n",
    "        df_row['SNR'] = row['SNR'] \n",
    "        hdrs = compute_1d_hdrs(gb, idx)\n",
    "        df_row['Frequency HDR'] = hdrs['Frequency']\n",
    "        df_row['Amplitude HDR'] = hdrs['Amplitude']\n",
    "        df_row['Inclination HDR'] = hdrs['Inclination']\n",
    "        df_row['Initial Phase HDR'] = hdrs['Initial Phase']\n",
    "        df_row['Ecliptic Latitude HDR'] = hdrs['Ecliptic Latitude']\n",
    "        df_row['Ecliptic Longitude HDR'] = hdrs['Ecliptic Longitude']\n",
    "        df_row['Polarization HDR'] = hdrs['Polarization']\n",
    "        df_row['Frequency Derivative HDR'] = hdrs['Frequency Derivative']\n",
    "        df_row['8D HDR'] = compute_8d_hdr(gb, idx)\n",
    "        hdr_df = pd.concat([hdr_df, pd.DataFrame(df_row, index=[0])], ignore_index=True)"
   ]
  },
  {
   "cell_type": "code",
   "execution_count": null,
   "id": "8c329c7e",
   "metadata": {},
   "outputs": [],
   "source": [
    "hdr_df.to_feather(\"../data/hdrs.feather\")"
   ]
  },
  {
   "cell_type": "code",
   "execution_count": null,
   "id": "a992680f",
   "metadata": {},
   "outputs": [],
   "source": []
  }
 ],
 "metadata": {
  "kernelspec": {
   "display_name": "catalogs",
   "language": "python",
   "name": "python3"
  },
  "language_info": {
   "codemirror_mode": {
    "name": "ipython",
    "version": 3
   },
   "file_extension": ".py",
   "mimetype": "text/x-python",
   "name": "python",
   "nbconvert_exporter": "python",
   "pygments_lexer": "ipython3",
   "version": "3.10.17"
  }
 },
 "nbformat": 4,
 "nbformat_minor": 5
}
